{
 "cells": [
  {
   "cell_type": "code",
   "execution_count": 1,
   "id": "1e40ed08",
   "metadata": {},
   "outputs": [
    {
     "name": "stdout",
     "output_type": "stream",
     "text": [
      "Total Files:  5\n"
     ]
    }
   ],
   "source": [
    "import glob\n",
    "\n",
    "import pandas as pd\n",
    "\n",
    "# get data file names\n",
    "path =r'C:\\Users\\Faisal\\Desktop\\cse498\\test.csv\\New folder'\n",
    "\n",
    "filenames = glob.glob(path + \"/*.csv\")\n",
    "print('Total Files: ',len(filenames))"
   ]
  },
  {
   "cell_type": "code",
   "execution_count": 2,
   "id": "42707e2a",
   "metadata": {},
   "outputs": [
    {
     "name": "stdout",
     "output_type": "stream",
     "text": [
      "Total combined row:  500\n"
     ]
    }
   ],
   "source": [
    "#append all data in one list\n",
    "dfs = []\n",
    "for filename in filenames:\n",
    "    dfs.append(pd.read_csv(filename))\n",
    "\n",
    "# Concatenate all data into one DataFrame\n",
    "combined = pd.concat(dfs, ignore_index=True)\n",
    "print('Total combined row: ',len(combined))"
   ]
  },
  {
   "cell_type": "code",
   "execution_count": 8,
   "id": "99866cea",
   "metadata": {},
   "outputs": [
    {
     "name": "stdout",
     "output_type": "stream",
     "text": [
      "Total row splitted:  500\n",
      "        User_ID                                        Description  \\\n",
      "count       500                                                500   \n",
      "unique      500                                                500   \n",
      "top     id10638  This hotel was right in the middle of everythi...   \n",
      "freq          1                                                  1   \n",
      "\n",
      "       Browser_Used Device_Used Is_Response  \n",
      "count           500         500         500  \n",
      "unique           11           3           2  \n",
      "top         Firefox      Mobile       happy  \n",
      "freq            109         205         331  \n"
     ]
    }
   ],
   "source": [
    "#splitting main tran.csv upon row variable\n",
    "row = 500\n",
    "mainFile = pd.read_csv(r'C:\\Users\\Faisal\\Desktop\\cse498\\test.csv\\train.csv')\n",
    "df = mainFile[:row]\n",
    "print('Total row splitted: ',len(df))"
   ]
  },
  {
   "cell_type": "code",
   "execution_count": 5,
   "id": "0ef4e0e1",
   "metadata": {},
   "outputs": [],
   "source": [
    "# initialise data of lists.\n",
    "data = {'Description':combined['description'].values,\n",
    "        'Label':df['Is_Response'].values}\n",
    " \n",
    "# Create DataFrame\n",
    "new = pd.DataFrame(data)\n",
    " \n",
    "# Save the output in Final.csv file.\n",
    "new.to_csv(r'C:\\Users\\Faisal\\Desktop\\cse498\\test.csv\\final.csv',index=False)"
   ]
  },
  {
   "cell_type": "code",
   "execution_count": 6,
   "id": "9b49986c",
   "metadata": {},
   "outputs": [
    {
     "data": {
      "text/html": [
       "<div>\n",
       "<style scoped>\n",
       "    .dataframe tbody tr th:only-of-type {\n",
       "        vertical-align: middle;\n",
       "    }\n",
       "\n",
       "    .dataframe tbody tr th {\n",
       "        vertical-align: top;\n",
       "    }\n",
       "\n",
       "    .dataframe thead th {\n",
       "        text-align: right;\n",
       "    }\n",
       "</style>\n",
       "<table border=\"1\" class=\"dataframe\">\n",
       "  <thead>\n",
       "    <tr style=\"text-align: right;\">\n",
       "      <th></th>\n",
       "      <th>Description</th>\n",
       "      <th>Label</th>\n",
       "    </tr>\n",
       "  </thead>\n",
       "  <tbody>\n",
       "    <tr>\n",
       "      <th>0</th>\n",
       "      <td>ঘরটি একধরনের পরিষ্কার ছিল কিন্তু কুকুরের খুব ত...</td>\n",
       "      <td>not happy</td>\n",
       "    </tr>\n",
       "    <tr>\n",
       "      <th>1</th>\n",
       "      <td>আমি ক্রাউন প্লাজায় এপ্রিল--এপ্রিল-, ---- থাকল...</td>\n",
       "      <td>not happy</td>\n",
       "    </tr>\n",
       "    <tr>\n",
       "      <th>2</th>\n",
       "      <td>আমি সর্বনিম্ন মূল্যে হটওয়্যারের মাধ্যমে এই হো...</td>\n",
       "      <td>not happy</td>\n",
       "    </tr>\n",
       "    <tr>\n",
       "      <th>3</th>\n",
       "      <td>আলাস্কা ক্রুজে যাওয়ার পথে স্বামী ও পুত্রদের স...</td>\n",
       "      <td>happy</td>\n",
       "    </tr>\n",
       "    <tr>\n",
       "      <th>4</th>\n",
       "      <td>আমার গার্লফ্রেন্ডরা এবং আমি আমাদের th তম জন্মদ...</td>\n",
       "      <td>not happy</td>\n",
       "    </tr>\n",
       "  </tbody>\n",
       "</table>\n",
       "</div>"
      ],
      "text/plain": [
       "                                         Description      Label\n",
       "0  ঘরটি একধরনের পরিষ্কার ছিল কিন্তু কুকুরের খুব ত...  not happy\n",
       "1  আমি ক্রাউন প্লাজায় এপ্রিল--এপ্রিল-, ---- থাকল...  not happy\n",
       "2  আমি সর্বনিম্ন মূল্যে হটওয়্যারের মাধ্যমে এই হো...  not happy\n",
       "3  আলাস্কা ক্রুজে যাওয়ার পথে স্বামী ও পুত্রদের স...      happy\n",
       "4  আমার গার্লফ্রেন্ডরা এবং আমি আমাদের th তম জন্মদ...  not happy"
      ]
     },
     "execution_count": 6,
     "metadata": {},
     "output_type": "execute_result"
    }
   ],
   "source": [
    "#read the csv again\n",
    "final = pd.read_csv(r'C:\\Users\\Faisal\\Desktop\\cse498\\test.csv\\final.csv')\n",
    "final.head()"
   ]
  }
 ],
 "metadata": {
  "kernelspec": {
   "display_name": "Python 3",
   "language": "python",
   "name": "python3"
  },
  "language_info": {
   "codemirror_mode": {
    "name": "ipython",
    "version": 3
   },
   "file_extension": ".py",
   "mimetype": "text/x-python",
   "name": "python",
   "nbconvert_exporter": "python",
   "pygments_lexer": "ipython3",
   "version": "3.8.8"
  }
 },
 "nbformat": 4,
 "nbformat_minor": 5
}
